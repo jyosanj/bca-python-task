{
 "cells": [
  {
   "cell_type": "code",
   "execution_count": 19,
   "id": "93319a5b",
   "metadata": {},
   "outputs": [
    {
     "name": "stdout",
     "output_type": "stream",
     "text": [
      "[144, 8, 16, 0, 24, 8, 16, 3.0, 0, True, False, False, False, True, True, 'bad deeds6576897', 'bad deedsbad deedsbad deedsbad deedsbad deeds', True, False, False, False]\n"
     ]
    }
   ],
   "source": [
    "#1.\tCreate variables of different data types (integer, float, string, and boolean) and perform various arithmetic operations on them.\n",
    "a=12\n",
    "b=4\n",
    "c=\"bad deeds\"\n",
    "d=True\n",
    "e=False\n",
    "integer = [a*a,a-b,a+b,a%b,a+a,b+b,b*b,a/b,b//a,a>b,a<b,a==b,b==a,b!=a,a!=b,c+\"6576897\",c*5,c==c,c!=c,c<c,c>c]\n",
    "print(integer)"
   ]
  },
  {
   "cell_type": "code",
   "execution_count": 50,
   "id": "d19c34e2",
   "metadata": {},
   "outputs": [
    {
     "name": "stdout",
     "output_type": "stream",
     "text": [
      "\n"
     ]
    },
    {
     "data": {
      "text/plain": [
       "'programming is fun'"
      ]
     },
     "execution_count": 50,
     "metadata": {},
     "output_type": "execute_result"
    }
   ],
   "source": [
    "##2.Given a string s = \"Programming is fun!\", extract the word \"is\" using slicing.\n",
    "s=\"programming is fun!\"\n",
    "##[start:stop:step]\n",
    "s[12:14]\n",
    "print()\n",
    "s[-1]\n",
    "s[-5]\n",
    "s[-6]\n",
    "s[-8]\n",
    "s[-7]\n",
    "s[-9]\n",
    "s[-15]\n",
    "s[-13]\n",
    "s[-12]\n",
    "s[-11]\n",
    "s[-14]\n",
    "s[0:-1]"
   ]
  },
  {
   "cell_type": "code",
   "execution_count": 53,
   "id": "0438651c",
   "metadata": {},
   "outputs": [
    {
     "name": "stdout",
     "output_type": "stream",
     "text": [
      "area of rectangle is 200\n"
     ]
    }
   ],
   "source": [
    "#3.Calculate the area of a rectangle with length l and width w using the multiplication operator.\n",
    "l=10\n",
    "b=20\n",
    "print(\"area of rectangle is\",l*b)"
   ]
  },
  {
   "cell_type": "code",
   "execution_count": 56,
   "id": "d0497fbe",
   "metadata": {},
   "outputs": [
    {
     "name": "stdout",
     "output_type": "stream",
     "text": [
      "(45, -15, 0.5, 450, 2, 0, 0.5)\n"
     ]
    }
   ],
   "source": [
    "#4.Given two numbers x and y, calculate their sum, difference, product, and quotient using arithmetic operators.\n",
    "x=15\n",
    "y=30\n",
    "c=x+y,x-y,x/y,x*y,y//x,y%x,x/y\n",
    "result=c\n",
    "print(result)"
   ]
  },
  {
   "cell_type": "code",
   "execution_count": 57,
   "id": "d0647354",
   "metadata": {},
   "outputs": [
    {
     "name": "stdout",
     "output_type": "stream",
     "text": [
      "20\n"
     ]
    }
   ],
   "source": [
    "#6.Determine the remainder of the division of two numbers a and b using the modulo operator.\n",
    "a=20\n",
    "b=40\n",
    "c=a%b\n",
    "print(c)\n",
    "\n"
   ]
  },
  {
   "cell_type": "code",
   "execution_count": 64,
   "id": "74c0110d",
   "metadata": {},
   "outputs": [
    {
     "name": "stdout",
     "output_type": "stream",
     "text": [
      "enter first number: 12\n",
      "enter second number: 24\n",
      "1224\n"
     ]
    }
   ],
   "source": [
    "#7.•\tTake two numbers as input from the user and perform addition, subtraction, multiplication, and division operations.\n",
    "a= input(\"enter first number: \")\n",
    "b=input(\"enter second number: \")\n",
    "\n",
    "c=a+b\n",
    "print(c)"
   ]
  },
  {
   "cell_type": "code",
   "execution_count": null,
   "id": "d84c5cef",
   "metadata": {},
   "outputs": [],
   "source": [
    "#8.Take the length and width of a rectangle as input from the user and calculate its area.\n",
    "a=int(input(\"lentgh is \"))\n",
    "b=int(input(\"width is \"))\n",
    "c=a*b\n",
    "print(\"area of rectangle is\",c)\n"
   ]
  },
  {
   "cell_type": "code",
   "execution_count": null,
   "id": "edadc3b5",
   "metadata": {},
   "outputs": [],
   "source": []
  }
 ],
 "metadata": {
  "kernelspec": {
   "display_name": "Python 3 (ipykernel)",
   "language": "python",
   "name": "python3"
  },
  "language_info": {
   "codemirror_mode": {
    "name": "ipython",
    "version": 3
   },
   "file_extension": ".py",
   "mimetype": "text/x-python",
   "name": "python",
   "nbconvert_exporter": "python",
   "pygments_lexer": "ipython3",
   "version": "3.10.9"
  }
 },
 "nbformat": 4,
 "nbformat_minor": 5
}
